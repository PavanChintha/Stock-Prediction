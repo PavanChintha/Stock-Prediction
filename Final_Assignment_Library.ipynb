{
  "cells": [
    {
      "cell_type": "markdown",
      "metadata": {
        "id": "view-in-github",
        "colab_type": "text"
      },
      "source": [
        "<a href=\"https://colab.research.google.com/github/PavanChintha/Stock-Prediction/blob/main/Final_Assignment_Library.ipynb\" target=\"_parent\"><img src=\"https://colab.research.google.com/assets/colab-badge.svg\" alt=\"Open In Colab\"/></a>"
      ]
    },
    {
      "cell_type": "markdown",
      "metadata": {
        "id": "AOavtpR7NMBY"
      },
      "source": [
        "<center>\n",
        "    <img src=\"https://s3-api.us-geo.objectstorage.softlayer.net/cf-courses-data/CognitiveClass/Logos/organization_logo/organization_logo.png\" width=\"300\" alt=\"cognitiveclass.ai logo\"  />\n",
        "</center>\n"
      ]
    },
    {
      "cell_type": "markdown",
      "metadata": {
        "id": "dld9q6-bNMBc"
      },
      "source": [
        "<h1>Extracting Stock Data Using a Python Library</h1>\n"
      ]
    },
    {
      "cell_type": "markdown",
      "metadata": {
        "id": "T-dQ489RNMBd"
      },
      "source": [
        "A company's stock share is a piece of the company more precisely:\n",
        "\n",
        "<p><b>A stock (also known as equity) is a security that represents the ownership of a fraction of a corporation. This\n",
        "entitles the owner of the stock to a proportion of the corporation's assets and profits equal to how much stock they own. Units of stock are called \"shares.\" [1]</p></b>\n",
        "\n",
        "An investor can buy a stock and sell it later. If the stock price increases, the investor profits, If it decreases,the investor with incur a loss.  Determining the stock price is complex; it depends on the number of outstanding shares, the size of the company's future profits, and much more. People trade stocks throughout the day the stock ticker is a report of the price of a certain stock, updated continuously throughout the trading session by the various stock market exchanges.\n",
        "\n",
        "<p>You are a data scientist working for a hedge fund; it's your job to determine any suspicious stock activity. In this lab you will extract stock data using a Python library. We will use the <coode>yfinance</code> library, it allows us to extract data for stocks returning data in a pandas dataframe. You will use the lab to extract.</p>\n"
      ]
    },
    {
      "cell_type": "markdown",
      "metadata": {
        "id": "EmnxFYOsNMBf"
      },
      "source": [
        "<h2>Table of Contents</h2>\n",
        "<div class=\"alert alert-block alert-info\" style=\"margin-top: 20px\">\n",
        "    <ul>\n",
        "        <li>Using yfinance to Extract Stock Info</li>\n",
        "        <li>Using yfinance to Extract Historical Share Price Data</li>\n",
        "        <li>Using yfinance to Extract Historical Dividends Data</li>\n",
        "        <li>Exercise</li>\n",
        "    </ul>\n",
        "<p>\n",
        "    Estimated Time Needed: <strong>30 min</strong></p>\n",
        "</div>\n",
        "\n",
        "<hr>\n"
      ]
    },
    {
      "cell_type": "code",
      "execution_count": 1,
      "metadata": {
        "colab": {
          "base_uri": "https://localhost:8080/"
        },
        "id": "g1CUdT9ONMBh",
        "outputId": "901bbe2b-7585-4141-f919-82d3efb09fd1"
      },
      "outputs": [
        {
          "output_type": "stream",
          "name": "stdout",
          "text": [
            "Looking in indexes: https://pypi.org/simple, https://us-python.pkg.dev/colab-wheels/public/simple/\n",
            "Collecting yfinance==0.1.67\n",
            "  Downloading yfinance-0.1.67-py2.py3-none-any.whl (25 kB)\n",
            "Requirement already satisfied: pandas>=0.24 in /usr/local/lib/python3.7/dist-packages (from yfinance==0.1.67) (1.3.5)\n",
            "Requirement already satisfied: lxml>=4.5.1 in /usr/local/lib/python3.7/dist-packages (from yfinance==0.1.67) (4.9.1)\n",
            "Requirement already satisfied: requests>=2.20 in /usr/local/lib/python3.7/dist-packages (from yfinance==0.1.67) (2.23.0)\n",
            "Requirement already satisfied: numpy>=1.15 in /usr/local/lib/python3.7/dist-packages (from yfinance==0.1.67) (1.21.6)\n",
            "Requirement already satisfied: multitasking>=0.0.7 in /usr/local/lib/python3.7/dist-packages (from yfinance==0.1.67) (0.0.11)\n",
            "Requirement already satisfied: python-dateutil>=2.7.3 in /usr/local/lib/python3.7/dist-packages (from pandas>=0.24->yfinance==0.1.67) (2.8.2)\n",
            "Requirement already satisfied: pytz>=2017.3 in /usr/local/lib/python3.7/dist-packages (from pandas>=0.24->yfinance==0.1.67) (2022.6)\n",
            "Requirement already satisfied: six>=1.5 in /usr/local/lib/python3.7/dist-packages (from python-dateutil>=2.7.3->pandas>=0.24->yfinance==0.1.67) (1.15.0)\n",
            "Requirement already satisfied: idna<3,>=2.5 in /usr/local/lib/python3.7/dist-packages (from requests>=2.20->yfinance==0.1.67) (2.10)\n",
            "Requirement already satisfied: urllib3!=1.25.0,!=1.25.1,<1.26,>=1.21.1 in /usr/local/lib/python3.7/dist-packages (from requests>=2.20->yfinance==0.1.67) (1.24.3)\n",
            "Requirement already satisfied: certifi>=2017.4.17 in /usr/local/lib/python3.7/dist-packages (from requests>=2.20->yfinance==0.1.67) (2022.9.24)\n",
            "Requirement already satisfied: chardet<4,>=3.0.2 in /usr/local/lib/python3.7/dist-packages (from requests>=2.20->yfinance==0.1.67) (3.0.4)\n",
            "Installing collected packages: yfinance\n",
            "Successfully installed yfinance-0.1.67\n"
          ]
        }
      ],
      "source": [
        "!pip install yfinance==0.1.67\n",
        "#!pip install pandas==1.3.3"
      ]
    },
    {
      "cell_type": "code",
      "execution_count": 2,
      "metadata": {
        "id": "wnSmeMDGNMBk"
      },
      "outputs": [],
      "source": [
        "import yfinance as yf\n",
        "import pandas as pd"
      ]
    },
    {
      "cell_type": "markdown",
      "metadata": {
        "id": "9L2Si30gNMBl"
      },
      "source": [
        "## Using the yfinance Library to Extract Stock Data\n"
      ]
    },
    {
      "cell_type": "markdown",
      "metadata": {
        "id": "axVYaOVoNMBm"
      },
      "source": [
        "Using the `Ticker` module we can create an object that will allow us to access functions to extract data. To do this we need to provide the ticker symbol for the stock, here the company is Apple and the ticker symbol is `AAPL`.\n"
      ]
    },
    {
      "cell_type": "code",
      "execution_count": 3,
      "metadata": {
        "id": "HavGNWP6NMBn"
      },
      "outputs": [],
      "source": [
        "apple = yf.Ticker(\"AAPL\")"
      ]
    },
    {
      "cell_type": "markdown",
      "metadata": {
        "id": "MHhKQBRUNMBo"
      },
      "source": [
        "Now we can access functions and variables to extract the type of data we need. You can view them and what they represent here [https://aroussi.com/post/python-yahoo-finance](https://aroussi.com/post/python-yahoo-finance?utm_medium=Exinfluencer&utm_source=Exinfluencer&utm_content=000026UJ&utm_term=10006555&utm_id=NA-SkillsNetwork-Channel-SkillsNetworkCoursesIBMDeveloperSkillsNetworkPY0220ENSkillsNetwork23455606-2022-01-01).\n"
      ]
    },
    {
      "cell_type": "markdown",
      "metadata": {
        "id": "gSgRC5utNMBp"
      },
      "source": [
        "### Stock Info\n"
      ]
    },
    {
      "cell_type": "markdown",
      "metadata": {
        "id": "wfZy4lusNMBp"
      },
      "source": [
        "Using the attribute  <code>info</code> we can extract information about the stock as a Python dictionary.\n"
      ]
    },
    {
      "cell_type": "code",
      "execution_count": 4,
      "metadata": {
        "colab": {
          "base_uri": "https://localhost:8080/"
        },
        "id": "0ApdBLqGNMBq",
        "outputId": "af337b7c-d2cc-4e6f-96d9-c089f6a4e06c"
      },
      "outputs": [
        {
          "output_type": "execute_result",
          "data": {
            "text/plain": [
              "{'zip': '95014',\n",
              " 'sector': 'Technology',\n",
              " 'fullTimeEmployees': 164000,\n",
              " 'longBusinessSummary': 'Apple Inc. designs, manufactures, and markets smartphones, personal computers, tablets, wearables, and accessories worldwide. It also sells various related services. In addition, the company offers iPhone, a line of smartphones; Mac, a line of personal computers; iPad, a line of multi-purpose tablets; and wearables, home, and accessories comprising AirPods, Apple TV, Apple Watch, Beats products, and HomePod. Further, it provides AppleCare support and cloud services store services; and operates various platforms, including the App Store that allow customers to discover and download applications and digital content, such as books, music, video, games, and podcasts. Additionally, the company offers various services, such as Apple Arcade, a game subscription service; Apple Fitness+, a personalized fitness service; Apple Music, which offers users a curated listening experience with on-demand radio stations; Apple News+, a subscription news and magazine service; Apple TV+, which offers exclusive original content; Apple Card, a co-branded credit card; and Apple Pay, a cashless payment service, as well as licenses its intellectual property. The company serves consumers, and small and mid-sized businesses; and the education, enterprise, and government markets. It distributes third-party applications for its products through the App Store. The company also sells its products through its retail and online stores, and direct sales force; and third-party cellular network carriers, wholesalers, retailers, and resellers. Apple Inc. was incorporated in 1977 and is headquartered in Cupertino, California.',\n",
              " 'city': 'Cupertino',\n",
              " 'phone': '408 996 1010',\n",
              " 'state': 'CA',\n",
              " 'country': 'United States',\n",
              " 'companyOfficers': [],\n",
              " 'website': 'https://www.apple.com',\n",
              " 'maxAge': 1,\n",
              " 'address1': 'One Apple Park Way',\n",
              " 'industry': 'Consumer Electronics',\n",
              " 'ebitdaMargins': 0.33105,\n",
              " 'profitMargins': 0.2531,\n",
              " 'grossMargins': 0.43310001,\n",
              " 'operatingCashflow': 122151002112,\n",
              " 'revenueGrowth': 0.081,\n",
              " 'operatingMargins': 0.30289,\n",
              " 'ebitda': 130541002752,\n",
              " 'targetLowPrice': 122,\n",
              " 'recommendationKey': 'buy',\n",
              " 'grossProfits': 170782000000,\n",
              " 'freeCashflow': 90215251968,\n",
              " 'targetMedianPrice': 180,\n",
              " 'currentPrice': 152.605,\n",
              " 'earningsGrowth': 0.048,\n",
              " 'currentRatio': 0.879,\n",
              " 'returnOnAssets': 0.21214001,\n",
              " 'numberOfAnalystOpinions': 41,\n",
              " 'targetMeanPrice': 178.15,\n",
              " 'debtToEquity': 261.446,\n",
              " 'returnOnEquity': 1.75459,\n",
              " 'targetHighPrice': 214,\n",
              " 'totalCash': 48304001024,\n",
              " 'totalDebt': 132480000000,\n",
              " 'totalRevenue': 394328014848,\n",
              " 'totalCashPerShare': 3.036,\n",
              " 'financialCurrency': 'USD',\n",
              " 'revenuePerShare': 24.317,\n",
              " 'quickRatio': 0.709,\n",
              " 'recommendationMean': 1.9,\n",
              " 'exchange': 'NMS',\n",
              " 'shortName': 'Apple Inc.',\n",
              " 'longName': 'Apple Inc.',\n",
              " 'exchangeTimezoneName': 'America/New_York',\n",
              " 'exchangeTimezoneShortName': 'EST',\n",
              " 'isEsgPopulated': False,\n",
              " 'gmtOffSetMilliseconds': '-18000000',\n",
              " 'quoteType': 'EQUITY',\n",
              " 'symbol': 'AAPL',\n",
              " 'messageBoardId': 'finmb_24937',\n",
              " 'market': 'us_market',\n",
              " 'annualHoldingsTurnover': None,\n",
              " 'enterpriseToRevenue': 6.253,\n",
              " 'beta3Year': None,\n",
              " 'enterpriseToEbitda': 18.888,\n",
              " '52WeekChange': -0.018013239,\n",
              " 'morningStarRiskRating': None,\n",
              " 'forwardEps': 6.81,\n",
              " 'revenueQuarterlyGrowth': None,\n",
              " 'sharesOutstanding': 15908100096,\n",
              " 'fundInceptionDate': None,\n",
              " 'annualReportExpenseRatio': None,\n",
              " 'totalAssets': None,\n",
              " 'bookValue': 3.178,\n",
              " 'sharesShort': 103178670,\n",
              " 'sharesPercentSharesOut': 0.0064999997,\n",
              " 'fundFamily': None,\n",
              " 'lastFiscalYearEnd': 1663977600,\n",
              " 'heldPercentInstitutions': 0.60247004,\n",
              " 'netIncomeToCommon': 99802996736,\n",
              " 'trailingEps': 6.11,\n",
              " 'lastDividendValue': 0.23,\n",
              " 'SandP52WeekChange': -0.15819311,\n",
              " 'priceToBook': 48.01919,\n",
              " 'heldPercentInsiders': 0.00072999997,\n",
              " 'nextFiscalYearEnd': 1727136000,\n",
              " 'yield': None,\n",
              " 'mostRecentQuarter': 1663977600,\n",
              " 'shortRatio': 1.14,\n",
              " 'sharesShortPreviousMonthDate': 1664496000,\n",
              " 'floatShares': 15891414476,\n",
              " 'beta': 1.246644,\n",
              " 'enterpriseValue': 2465621344256,\n",
              " 'priceHint': 2,\n",
              " 'threeYearAverageReturn': None,\n",
              " 'lastSplitDate': 1598832000,\n",
              " 'lastSplitFactor': '4:1',\n",
              " 'legalType': None,\n",
              " 'lastDividendDate': 1667520000,\n",
              " 'morningStarOverallRating': None,\n",
              " 'earningsQuarterlyGrowth': 0.008,\n",
              " 'priceToSalesTrailing12Months': 6.156437,\n",
              " 'dateShortInterest': 1667174400,\n",
              " 'pegRatio': 2.67,\n",
              " 'ytdReturn': None,\n",
              " 'forwardPE': 22.408957,\n",
              " 'lastCapGain': None,\n",
              " 'shortPercentOfFloat': 0.0064999997,\n",
              " 'sharesShortPriorMonth': 103251184,\n",
              " 'impliedSharesOutstanding': 0,\n",
              " 'category': None,\n",
              " 'fiveYearAverageReturn': None,\n",
              " 'previousClose': 148.28,\n",
              " 'regularMarketOpen': 152.215,\n",
              " 'twoHundredDayAverage': 155.57056,\n",
              " 'trailingAnnualDividendYield': 0.006069598,\n",
              " 'payoutRatio': 0.14729999,\n",
              " 'volume24Hr': None,\n",
              " 'regularMarketDayHigh': 153.59,\n",
              " 'navPrice': None,\n",
              " 'averageDailyVolume10Day': 94688660,\n",
              " 'regularMarketPreviousClose': 148.28,\n",
              " 'fiftyDayAverage': 147.513,\n",
              " 'trailingAnnualDividendRate': 0.9,\n",
              " 'open': 152.215,\n",
              " 'toCurrency': None,\n",
              " 'averageVolume10days': 94688660,\n",
              " 'expireDate': None,\n",
              " 'algorithm': None,\n",
              " 'dividendRate': 0.92,\n",
              " 'exDividendDate': 1667520000,\n",
              " 'circulatingSupply': None,\n",
              " 'startDate': None,\n",
              " 'regularMarketDayLow': 151.68,\n",
              " 'currency': 'USD',\n",
              " 'trailingPE': 24.976267,\n",
              " 'regularMarketVolume': 35371254,\n",
              " 'lastMarket': None,\n",
              " 'maxSupply': None,\n",
              " 'openInterest': None,\n",
              " 'marketCap': 2427655553024,\n",
              " 'volumeAllCurrencies': None,\n",
              " 'strikePrice': None,\n",
              " 'averageVolume': 89292351,\n",
              " 'dayLow': 151.68,\n",
              " 'ask': 152.62,\n",
              " 'askSize': 1100,\n",
              " 'volume': 35371254,\n",
              " 'fiftyTwoWeekHigh': 182.94,\n",
              " 'fromCurrency': None,\n",
              " 'fiveYearAvgDividendYield': 1,\n",
              " 'fiftyTwoWeekLow': 129.04,\n",
              " 'bid': 152.62,\n",
              " 'tradeable': False,\n",
              " 'dividendYield': 0.0061000003,\n",
              " 'bidSize': 800,\n",
              " 'dayHigh': 153.59,\n",
              " 'coinMarketCapLink': None,\n",
              " 'regularMarketPrice': 152.605,\n",
              " 'preMarketPrice': 152.01,\n",
              " 'logo_url': 'https://logo.clearbit.com/apple.com'}"
            ]
          },
          "metadata": {},
          "execution_count": 4
        }
      ],
      "source": [
        "apple_info=apple.info\n",
        "apple_info"
      ]
    },
    {
      "cell_type": "markdown",
      "metadata": {
        "id": "43EdYM7jNMBr"
      },
      "source": [
        "We can get the <code>'country'</code> using the key country\n"
      ]
    },
    {
      "cell_type": "code",
      "execution_count": 5,
      "metadata": {
        "colab": {
          "base_uri": "https://localhost:8080/",
          "height": 36
        },
        "id": "9PPNtkHpNMBr",
        "outputId": "2f997029-e5dd-4b13-9cba-21670f05fc9b"
      },
      "outputs": [
        {
          "output_type": "execute_result",
          "data": {
            "text/plain": [
              "'United States'"
            ],
            "application/vnd.google.colaboratory.intrinsic+json": {
              "type": "string"
            }
          },
          "metadata": {},
          "execution_count": 5
        }
      ],
      "source": [
        "apple_info['country']"
      ]
    },
    {
      "cell_type": "markdown",
      "metadata": {
        "id": "O1bjL72FNMBs"
      },
      "source": [
        "### Extracting Share Price\n"
      ]
    },
    {
      "cell_type": "markdown",
      "metadata": {
        "id": "6CSXEzsONMBt"
      },
      "source": [
        "A share is the single smallest part of a company's stock  that you can buy, the prices of these shares fluctuate over time. Using the <code>history()</code> method we can get the share price of the stock over a certain period of time. Using the `period` parameter we can set how far back from the present to get data. The options for `period` are 1 day (1d), 5d, 1 month (1mo) , 3mo, 6mo, 1 year (1y), 2y, 5y, 10y, ytd, and max.\n"
      ]
    },
    {
      "cell_type": "code",
      "execution_count": 6,
      "metadata": {
        "id": "KRdbbMEpNMBt"
      },
      "outputs": [],
      "source": [
        "apple_share_price_data = apple.history(period=\"max\")"
      ]
    },
    {
      "cell_type": "markdown",
      "metadata": {
        "id": "7Ap8jRwdNMBu"
      },
      "source": [
        "The format that the data is returned in is a Pandas DataFrame. With the `Date` as the index the share `Open`, `High`, `Low`, `Close`, `Volume`, and `Stock Splits` are given for each day.\n"
      ]
    },
    {
      "cell_type": "code",
      "execution_count": 7,
      "metadata": {
        "colab": {
          "base_uri": "https://localhost:8080/",
          "height": 237
        },
        "id": "OSkhZVwyNMBv",
        "outputId": "19479cec-2af6-40d1-8afa-dcc5665641e4"
      },
      "outputs": [
        {
          "output_type": "execute_result",
          "data": {
            "text/plain": [
              "                Open      High       Low     Close     Volume  Dividends  \\\n",
              "Date                                                                       \n",
              "1980-12-12  0.099874  0.100308  0.099874  0.099874  469033600        0.0   \n",
              "1980-12-15  0.095098  0.095098  0.094663  0.094663  175884800        0.0   \n",
              "1980-12-16  0.088149  0.088149  0.087715  0.087715  105728000        0.0   \n",
              "1980-12-17  0.089886  0.090321  0.089886  0.089886   86441600        0.0   \n",
              "1980-12-18  0.092492  0.092927  0.092492  0.092492   73449600        0.0   \n",
              "\n",
              "            Stock Splits  \n",
              "Date                      \n",
              "1980-12-12           0.0  \n",
              "1980-12-15           0.0  \n",
              "1980-12-16           0.0  \n",
              "1980-12-17           0.0  \n",
              "1980-12-18           0.0  "
            ],
            "text/html": [
              "\n",
              "  <div id=\"df-dbbe2f88-9ce8-43ce-8188-179dc2cb29b0\">\n",
              "    <div class=\"colab-df-container\">\n",
              "      <div>\n",
              "<style scoped>\n",
              "    .dataframe tbody tr th:only-of-type {\n",
              "        vertical-align: middle;\n",
              "    }\n",
              "\n",
              "    .dataframe tbody tr th {\n",
              "        vertical-align: top;\n",
              "    }\n",
              "\n",
              "    .dataframe thead th {\n",
              "        text-align: right;\n",
              "    }\n",
              "</style>\n",
              "<table border=\"1\" class=\"dataframe\">\n",
              "  <thead>\n",
              "    <tr style=\"text-align: right;\">\n",
              "      <th></th>\n",
              "      <th>Open</th>\n",
              "      <th>High</th>\n",
              "      <th>Low</th>\n",
              "      <th>Close</th>\n",
              "      <th>Volume</th>\n",
              "      <th>Dividends</th>\n",
              "      <th>Stock Splits</th>\n",
              "    </tr>\n",
              "    <tr>\n",
              "      <th>Date</th>\n",
              "      <th></th>\n",
              "      <th></th>\n",
              "      <th></th>\n",
              "      <th></th>\n",
              "      <th></th>\n",
              "      <th></th>\n",
              "      <th></th>\n",
              "    </tr>\n",
              "  </thead>\n",
              "  <tbody>\n",
              "    <tr>\n",
              "      <th>1980-12-12</th>\n",
              "      <td>0.099874</td>\n",
              "      <td>0.100308</td>\n",
              "      <td>0.099874</td>\n",
              "      <td>0.099874</td>\n",
              "      <td>469033600</td>\n",
              "      <td>0.0</td>\n",
              "      <td>0.0</td>\n",
              "    </tr>\n",
              "    <tr>\n",
              "      <th>1980-12-15</th>\n",
              "      <td>0.095098</td>\n",
              "      <td>0.095098</td>\n",
              "      <td>0.094663</td>\n",
              "      <td>0.094663</td>\n",
              "      <td>175884800</td>\n",
              "      <td>0.0</td>\n",
              "      <td>0.0</td>\n",
              "    </tr>\n",
              "    <tr>\n",
              "      <th>1980-12-16</th>\n",
              "      <td>0.088149</td>\n",
              "      <td>0.088149</td>\n",
              "      <td>0.087715</td>\n",
              "      <td>0.087715</td>\n",
              "      <td>105728000</td>\n",
              "      <td>0.0</td>\n",
              "      <td>0.0</td>\n",
              "    </tr>\n",
              "    <tr>\n",
              "      <th>1980-12-17</th>\n",
              "      <td>0.089886</td>\n",
              "      <td>0.090321</td>\n",
              "      <td>0.089886</td>\n",
              "      <td>0.089886</td>\n",
              "      <td>86441600</td>\n",
              "      <td>0.0</td>\n",
              "      <td>0.0</td>\n",
              "    </tr>\n",
              "    <tr>\n",
              "      <th>1980-12-18</th>\n",
              "      <td>0.092492</td>\n",
              "      <td>0.092927</td>\n",
              "      <td>0.092492</td>\n",
              "      <td>0.092492</td>\n",
              "      <td>73449600</td>\n",
              "      <td>0.0</td>\n",
              "      <td>0.0</td>\n",
              "    </tr>\n",
              "  </tbody>\n",
              "</table>\n",
              "</div>\n",
              "      <button class=\"colab-df-convert\" onclick=\"convertToInteractive('df-dbbe2f88-9ce8-43ce-8188-179dc2cb29b0')\"\n",
              "              title=\"Convert this dataframe to an interactive table.\"\n",
              "              style=\"display:none;\">\n",
              "        \n",
              "  <svg xmlns=\"http://www.w3.org/2000/svg\" height=\"24px\"viewBox=\"0 0 24 24\"\n",
              "       width=\"24px\">\n",
              "    <path d=\"M0 0h24v24H0V0z\" fill=\"none\"/>\n",
              "    <path d=\"M18.56 5.44l.94 2.06.94-2.06 2.06-.94-2.06-.94-.94-2.06-.94 2.06-2.06.94zm-11 1L8.5 8.5l.94-2.06 2.06-.94-2.06-.94L8.5 2.5l-.94 2.06-2.06.94zm10 10l.94 2.06.94-2.06 2.06-.94-2.06-.94-.94-2.06-.94 2.06-2.06.94z\"/><path d=\"M17.41 7.96l-1.37-1.37c-.4-.4-.92-.59-1.43-.59-.52 0-1.04.2-1.43.59L10.3 9.45l-7.72 7.72c-.78.78-.78 2.05 0 2.83L4 21.41c.39.39.9.59 1.41.59.51 0 1.02-.2 1.41-.59l7.78-7.78 2.81-2.81c.8-.78.8-2.07 0-2.86zM5.41 20L4 18.59l7.72-7.72 1.47 1.35L5.41 20z\"/>\n",
              "  </svg>\n",
              "      </button>\n",
              "      \n",
              "  <style>\n",
              "    .colab-df-container {\n",
              "      display:flex;\n",
              "      flex-wrap:wrap;\n",
              "      gap: 12px;\n",
              "    }\n",
              "\n",
              "    .colab-df-convert {\n",
              "      background-color: #E8F0FE;\n",
              "      border: none;\n",
              "      border-radius: 50%;\n",
              "      cursor: pointer;\n",
              "      display: none;\n",
              "      fill: #1967D2;\n",
              "      height: 32px;\n",
              "      padding: 0 0 0 0;\n",
              "      width: 32px;\n",
              "    }\n",
              "\n",
              "    .colab-df-convert:hover {\n",
              "      background-color: #E2EBFA;\n",
              "      box-shadow: 0px 1px 2px rgba(60, 64, 67, 0.3), 0px 1px 3px 1px rgba(60, 64, 67, 0.15);\n",
              "      fill: #174EA6;\n",
              "    }\n",
              "\n",
              "    [theme=dark] .colab-df-convert {\n",
              "      background-color: #3B4455;\n",
              "      fill: #D2E3FC;\n",
              "    }\n",
              "\n",
              "    [theme=dark] .colab-df-convert:hover {\n",
              "      background-color: #434B5C;\n",
              "      box-shadow: 0px 1px 3px 1px rgba(0, 0, 0, 0.15);\n",
              "      filter: drop-shadow(0px 1px 2px rgba(0, 0, 0, 0.3));\n",
              "      fill: #FFFFFF;\n",
              "    }\n",
              "  </style>\n",
              "\n",
              "      <script>\n",
              "        const buttonEl =\n",
              "          document.querySelector('#df-dbbe2f88-9ce8-43ce-8188-179dc2cb29b0 button.colab-df-convert');\n",
              "        buttonEl.style.display =\n",
              "          google.colab.kernel.accessAllowed ? 'block' : 'none';\n",
              "\n",
              "        async function convertToInteractive(key) {\n",
              "          const element = document.querySelector('#df-dbbe2f88-9ce8-43ce-8188-179dc2cb29b0');\n",
              "          const dataTable =\n",
              "            await google.colab.kernel.invokeFunction('convertToInteractive',\n",
              "                                                     [key], {});\n",
              "          if (!dataTable) return;\n",
              "\n",
              "          const docLinkHtml = 'Like what you see? Visit the ' +\n",
              "            '<a target=\"_blank\" href=https://colab.research.google.com/notebooks/data_table.ipynb>data table notebook</a>'\n",
              "            + ' to learn more about interactive tables.';\n",
              "          element.innerHTML = '';\n",
              "          dataTable['output_type'] = 'display_data';\n",
              "          await google.colab.output.renderOutput(dataTable, element);\n",
              "          const docLink = document.createElement('div');\n",
              "          docLink.innerHTML = docLinkHtml;\n",
              "          element.appendChild(docLink);\n",
              "        }\n",
              "      </script>\n",
              "    </div>\n",
              "  </div>\n",
              "  "
            ]
          },
          "metadata": {},
          "execution_count": 7
        }
      ],
      "source": [
        "apple_share_price_data.head()"
      ]
    },
    {
      "cell_type": "markdown",
      "metadata": {
        "id": "OAxUaN4_NMBw"
      },
      "source": [
        "We can reset the index of the DataFrame with the `reset_index` function. We also set the `inplace` paramter to `True` so the change takes place to the DataFrame itself.\n"
      ]
    },
    {
      "cell_type": "code",
      "execution_count": 8,
      "metadata": {
        "id": "OgCHNHkHNMBw"
      },
      "outputs": [],
      "source": [
        "apple_share_price_data.reset_index(inplace=True)"
      ]
    },
    {
      "cell_type": "markdown",
      "metadata": {
        "id": "ARO5cSQkNMBx"
      },
      "source": [
        "We can plot the `Open` price against the `Date`:\n"
      ]
    },
    {
      "cell_type": "code",
      "execution_count": 9,
      "metadata": {
        "colab": {
          "base_uri": "https://localhost:8080/",
          "height": 286
        },
        "id": "eqkxhPE4NMBy",
        "outputId": "8f16e0ef-7e4d-49e7-bf75-5d8ff88fe6fb"
      },
      "outputs": [
        {
          "output_type": "execute_result",
          "data": {
            "text/plain": [
              "<matplotlib.axes._subplots.AxesSubplot at 0x7ff020202a50>"
            ]
          },
          "metadata": {},
          "execution_count": 9
        },
        {
          "output_type": "display_data",
          "data": {
            "text/plain": [
              "<Figure size 432x288 with 1 Axes>"
            ],
            "image/png": "[encoded data removed]"
          },
          "metadata": {
            "needs_background": "light"
          }
        }
      ],
      "source": [
        "apple_share_price_data.plot(x=\"Date\", y=\"Open\")"
      ]
    },
    {
      "cell_type": "markdown",
      "metadata": {
        "id": "o5qLTqtvNMBz"
      },
      "source": [
        "### Extracting Dividends\n"
      ]
    },
    {
      "cell_type": "markdown",
      "metadata": {
        "id": "kiDQRjdgNMBz"
      },
      "source": [
        "Dividends are the distribution of a companys profits to shareholders. In this case they are defined as an amount of money returned per share an investor owns. Using the variable `dividends` we can get a dataframe of the data. The period of the data is given by the period defined in the 'history\\` function.\n"
      ]
    },
    {
      "cell_type": "code",
      "execution_count": 10,
      "metadata": {
        "colab": {
          "base_uri": "https://localhost:8080/"
        },
        "id": "5VC1kR4aNMB0",
        "outputId": "7108d812-9ca6-44fa-c7a8-232284f0576c"
      },
      "outputs": [
        {
          "output_type": "execute_result",
          "data": {
            "text/plain": [
              "Date\n",
              "1987-05-11    0.000536\n",
              "1987-08-10    0.000536\n",
              "1987-11-17    0.000714\n",
              "1988-02-12    0.000714\n",
              "1988-05-16    0.000714\n",
              "                ...   \n",
              "2021-11-05    0.220000\n",
              "2022-02-04    0.220000\n",
              "2022-05-06    0.230000\n",
              "2022-08-05    0.230000\n",
              "2022-11-04    0.230000\n",
              "Name: Dividends, Length: 77, dtype: float64"
            ]
          },
          "metadata": {},
          "execution_count": 10
        }
      ],
      "source": [
        "apple.dividends"
      ]
    },
    {
      "cell_type": "markdown",
      "metadata": {
        "id": "aC3e9L3jNMB0"
      },
      "source": [
        "We can plot the dividends overtime:\n"
      ]
    },
    {
      "cell_type": "code",
      "execution_count": 11,
      "metadata": {
        "colab": {
          "base_uri": "https://localhost:8080/",
          "height": 286
        },
        "id": "5lK4RzrRNMB1",
        "outputId": "7ead7928-9178-47b1-e906-725d7e4e31f6"
      },
      "outputs": [
        {
          "output_type": "execute_result",
          "data": {
            "text/plain": [
              "<matplotlib.axes._subplots.AxesSubplot at 0x7ff020072690>"
            ]
          },
          "metadata": {},
          "execution_count": 11
        },
        {
          "output_type": "display_data",
          "data": {
            "text/plain": [
              "<Figure size 432x288 with 1 Axes>"
            ],
            "image/png": "[encoded data removed]"
          },
          "metadata": {
            "needs_background": "light"
          }
        }
      ],
      "source": [
        "apple.dividends.plot()"
      ]
    },
    {
      "cell_type": "markdown",
      "metadata": {
        "id": "GsLo-8hKNMB2"
      },
      "source": [
        "## Exercise\n"
      ]
    },
    {
      "cell_type": "markdown",
      "metadata": {
        "id": "AQm8l_lhNMB2"
      },
      "source": [
        "Now using the `Ticker` module create an object for AMD (Advanced Micro Devices) with the ticker symbol is `AMD` called; name the object <code>amd</code>.\n"
      ]
    },
    {
      "cell_type": "code",
      "execution_count": 18,
      "metadata": {
        "colab": {
          "base_uri": "https://localhost:8080/"
        },
        "id": "dph_idUINMB3",
        "outputId": "0c4fcb17-b577-4a9a-8579-1f0f93ae0417"
      },
      "outputs": [
        {
          "output_type": "execute_result",
          "data": {
            "text/plain": [
              "{'zip': '95054',\n",
              " 'sector': 'Technology',\n",
              " 'fullTimeEmployees': 15500,\n",
              " 'longBusinessSummary': 'Advanced Micro Devices, Inc. operates as a semiconductor company worldwide. The company operates in two segments, Computing and Graphics; and Enterprise, Embedded and Semi-Custom. Its products include x86 microprocessors as an accelerated processing unit, chipsets, discrete and integrated graphics processing units (GPUs), data center and professional GPUs, and development services; and server and embedded processors, and semi-custom System-on-Chip (SoC) products, development services, and technology for game consoles. The company provides processors for desktop and notebook personal computers under the AMD Ryzen, AMD Ryzen PRO, Ryzen Threadripper, Ryzen Threadripper PRO, AMD Athlon, AMD Athlon PRO, AMD FX, AMD A-Series, and AMD PRO A-Series processors brands; discrete GPUs for desktop and notebook PCs under the AMD Radeon graphics, AMD Embedded Radeon graphics brands; and professional graphics products under the AMD Radeon Pro and AMD FirePro graphics brands. It also offers Radeon Instinct, Radeon PRO V-series, and AMD Instinct accelerators for servers; chipsets under the AMD trademark; microprocessors for servers under the AMD EPYC; embedded processor solutions under the AMD Athlon, AMD Geode, AMD Ryzen, AMD EPYC, AMD R-Series, and G-Series processors brands; and customer-specific solutions based on AMD CPU, GPU, and multi-media technologies, as well as semi-custom SoC products. It serves original equipment manufacturers, public cloud service providers, original design manufacturers, system integrators, independent distributors, online retailers, and add-in-board manufacturers through its direct sales force, independent distributors, and sales representatives. The company was incorporated in 1969 and is headquartered in Santa Clara, California.',\n",
              " 'city': 'Santa Clara',\n",
              " 'phone': '408 749 4000',\n",
              " 'state': 'CA',\n",
              " 'country': 'United States',\n",
              " 'companyOfficers': [],\n",
              " 'website': 'https://www.amd.com',\n",
              " 'maxAge': 1,\n",
              " 'address1': '2485 Augustine Drive',\n",
              " 'industry': 'Semiconductors',\n",
              " 'ebitdaMargins': 0.24299,\n",
              " 'profitMargins': 0.09957,\n",
              " 'grossMargins': 0.5095,\n",
              " 'operatingCashflow': 3820000000,\n",
              " 'revenueGrowth': 0.29,\n",
              " 'operatingMargins': 0.13085,\n",
              " 'ebitda': 5546999808,\n",
              " 'targetLowPrice': 60,\n",
              " 'recommendationKey': 'buy',\n",
              " 'grossProfits': 7929000000,\n",
              " 'freeCashflow': 4550750208,\n",
              " 'targetMedianPrice': 85,\n",
              " 'currentPrice': 77.2699,\n",
              " 'earningsGrowth': -0.947,\n",
              " 'currentRatio': 2.155,\n",
              " 'returnOnAssets': 0.047280002,\n",
              " 'numberOfAnalystOpinions': 38,\n",
              " 'targetMeanPrice': 92.69,\n",
              " 'debtToEquity': 5.299,\n",
              " 'returnOnEquity': 0.073699996,\n",
              " 'targetHighPrice': 200,\n",
              " 'totalCash': 5591000064,\n",
              " 'totalDebt': 2889999872,\n",
              " 'totalRevenue': 22827999232,\n",
              " 'totalCashPerShare': 3.468,\n",
              " 'financialCurrency': 'USD',\n",
              " 'revenuePerShare': 15.646,\n",
              " 'quickRatio': 1.484,\n",
              " 'recommendationMean': 2,\n",
              " 'exchange': 'NMS',\n",
              " 'shortName': 'Advanced Micro Devices, Inc.',\n",
              " 'longName': 'Advanced Micro Devices, Inc.',\n",
              " 'exchangeTimezoneName': 'America/New_York',\n",
              " 'exchangeTimezoneShortName': 'EST',\n",
              " 'isEsgPopulated': False,\n",
              " 'gmtOffSetMilliseconds': '-18000000',\n",
              " 'quoteType': 'EQUITY',\n",
              " 'symbol': 'AMD',\n",
              " 'messageBoardId': 'finmb_168864',\n",
              " 'market': 'us_market',\n",
              " 'annualHoldingsTurnover': None,\n",
              " 'enterpriseToRevenue': 5.075,\n",
              " 'beta3Year': None,\n",
              " 'enterpriseToEbitda': 20.886,\n",
              " '52WeekChange': -0.5176779,\n",
              " 'morningStarRiskRating': None,\n",
              " 'forwardEps': 3.66,\n",
              " 'revenueQuarterlyGrowth': None,\n",
              " 'sharesOutstanding': 1612359936,\n",
              " 'fundInceptionDate': None,\n",
              " 'annualReportExpenseRatio': None,\n",
              " 'totalAssets': None,\n",
              " 'bookValue': 33.835,\n",
              " 'sharesShort': 32943648,\n",
              " 'sharesPercentSharesOut': 0.020399999,\n",
              " 'fundFamily': None,\n",
              " 'lastFiscalYearEnd': 1640390400,\n",
              " 'heldPercentInstitutions': 0.70469004,\n",
              " 'netIncomeToCommon': 2272999936,\n",
              " 'trailingEps': 1.66,\n",
              " 'lastDividendValue': None,\n",
              " 'SandP52WeekChange': -0.15819311,\n",
              " 'priceToBook': 2.283727,\n",
              " 'heldPercentInsiders': 0.0034599998,\n",
              " 'nextFiscalYearEnd': 1703462400,\n",
              " 'yield': None,\n",
              " 'mostRecentQuarter': 1663977600,\n",
              " 'shortRatio': 0.35,\n",
              " 'sharesShortPreviousMonthDate': 1664496000,\n",
              " 'floatShares': 1603326967,\n",
              " 'beta': 1.947406,\n",
              " 'enterpriseValue': 115855548416,\n",
              " 'priceHint': 2,\n",
              " 'threeYearAverageReturn': None,\n",
              " 'lastSplitDate': 966902400,\n",
              " 'lastSplitFactor': '2:1',\n",
              " 'legalType': None,\n",
              " 'lastDividendDate': None,\n",
              " 'morningStarOverallRating': None,\n",
              " 'earningsQuarterlyGrowth': -0.928,\n",
              " 'priceToSalesTrailing12Months': 5.457635,\n",
              " 'dateShortInterest': 1667174400,\n",
              " 'pegRatio': 1.24,\n",
              " 'ytdReturn': None,\n",
              " 'forwardPE': 21.111994,\n",
              " 'lastCapGain': None,\n",
              " 'shortPercentOfFloat': 0.020499999,\n",
              " 'sharesShortPriorMonth': 32224203,\n",
              " 'impliedSharesOutstanding': 0,\n",
              " 'category': None,\n",
              " 'fiveYearAverageReturn': None,\n",
              " 'previousClose': 73.53,\n",
              " 'regularMarketOpen': 77.26,\n",
              " 'twoHundredDayAverage': 90.7019,\n",
              " 'trailingAnnualDividendYield': 0,\n",
              " 'payoutRatio': 0,\n",
              " 'volume24Hr': None,\n",
              " 'regularMarketDayHigh': 79.16,\n",
              " 'navPrice': None,\n",
              " 'averageDailyVolume10Day': 93654220,\n",
              " 'regularMarketPreviousClose': 73.53,\n",
              " 'fiftyDayAverage': 66.4126,\n",
              " 'trailingAnnualDividendRate': 0,\n",
              " 'open': 77.26,\n",
              " 'toCurrency': None,\n",
              " 'averageVolume10days': 93654220,\n",
              " 'expireDate': None,\n",
              " 'algorithm': None,\n",
              " 'dividendRate': None,\n",
              " 'exDividendDate': 798940800,\n",
              " 'circulatingSupply': None,\n",
              " 'startDate': None,\n",
              " 'regularMarketDayLow': 76.29,\n",
              " 'currency': 'USD',\n",
              " 'trailingPE': 46.54813,\n",
              " 'regularMarketVolume': 65711188,\n",
              " 'lastMarket': None,\n",
              " 'maxSupply': None,\n",
              " 'openInterest': None,\n",
              " 'marketCap': 124586885120,\n",
              " 'volumeAllCurrencies': None,\n",
              " 'strikePrice': None,\n",
              " 'averageVolume': 83372867,\n",
              " 'dayLow': 76.29,\n",
              " 'ask': 77.48,\n",
              " 'askSize': 1100,\n",
              " 'volume': 65711188,\n",
              " 'fiftyTwoWeekHigh': 164.46,\n",
              " 'fromCurrency': None,\n",
              " 'fiveYearAvgDividendYield': None,\n",
              " 'fiftyTwoWeekLow': 54.57,\n",
              " 'bid': 77.43,\n",
              " 'tradeable': False,\n",
              " 'dividendYield': None,\n",
              " 'bidSize': 1200,\n",
              " 'dayHigh': 79.16,\n",
              " 'coinMarketCapLink': None,\n",
              " 'regularMarketPrice': 77.2699,\n",
              " 'preMarketPrice': 77.3,\n",
              " 'logo_url': 'https://logo.clearbit.com/amd.com'}"
            ]
          },
          "metadata": {},
          "execution_count": 18
        }
      ],
      "source": [
        "amd = yf.Ticker(\"AMD\")\n",
        "amd_info=amd.info\n",
        "amd_info"
      ]
    },
    {
      "cell_type": "markdown",
      "metadata": {
        "id": "p95GZpPWNMB3"
      },
      "source": [
        "<b>Question 1</b> Use the key  <code>'country'</code> to find the country the stock belongs to, remember it as it will be a quiz question.\n"
      ]
    },
    {
      "cell_type": "code",
      "execution_count": 19,
      "metadata": {
        "colab": {
          "base_uri": "https://localhost:8080/",
          "height": 36
        },
        "id": "OlIYqB71NMB4",
        "outputId": "bd1f5939-31eb-4a3c-84f2-98a018f1f261"
      },
      "outputs": [
        {
          "output_type": "execute_result",
          "data": {
            "text/plain": [
              "'United States'"
            ],
            "application/vnd.google.colaboratory.intrinsic+json": {
              "type": "string"
            }
          },
          "metadata": {},
          "execution_count": 19
        }
      ],
      "source": [
        "amd_info['country']"
      ]
    },
    {
      "cell_type": "markdown",
      "metadata": {
        "id": "rQ1R8s-8NMB4"
      },
      "source": [
        "<b>Question 2</b> Use the key  <code>'sector'</code> to find the sector the stock belongs to, remember it as it will be a quiz question.\n"
      ]
    },
    {
      "cell_type": "code",
      "execution_count": 20,
      "metadata": {
        "colab": {
          "base_uri": "https://localhost:8080/",
          "height": 36
        },
        "id": "cyk2czbRNMB5",
        "outputId": "0b1d8a58-102f-4696-a693-9873738c47b3"
      },
      "outputs": [
        {
          "output_type": "execute_result",
          "data": {
            "text/plain": [
              "'Technology'"
            ],
            "application/vnd.google.colaboratory.intrinsic+json": {
              "type": "string"
            }
          },
          "metadata": {},
          "execution_count": 20
        }
      ],
      "source": [
        "amd_info['sector']"
      ]
    },
    {
      "cell_type": "markdown",
      "metadata": {
        "id": "-mQOJ8yRNMB6"
      },
      "source": [
        "<b>Question 3</b> Obtain stock data for AMD using the `history` function, set the `period` to max. Find the `Volume` traded on the first day (first row).\n"
      ]
    },
    {
      "cell_type": "code",
      "execution_count": 22,
      "metadata": {
        "id": "zMRQEGW5NMB6"
      },
      "outputs": [],
      "source": [
        "amd_share_price_data = amd.history(period=\"max\")"
      ]
    },
    {
      "cell_type": "code",
      "source": [
        "amd_share_price_data.head()"
      ],
      "metadata": {
        "colab": {
          "base_uri": "https://localhost:8080/",
          "height": 237
        },
        "id": "hjkehlLWcBj1",
        "outputId": "8952f0bf-57f3-4752-d6c2-2c92779784b0"
      },
      "execution_count": 23,
      "outputs": [
        {
          "output_type": "execute_result",
          "data": {
            "text/plain": [
              "            Open      High       Low     Close  Volume  Dividends  \\\n",
              "Date                                                                \n",
              "1980-03-17   0.0  3.302083  3.125000  3.145833  219600          0   \n",
              "1980-03-18   0.0  3.125000  2.937500  3.031250  727200          0   \n",
              "1980-03-19   0.0  3.083333  3.020833  3.041667  295200          0   \n",
              "1980-03-20   0.0  3.062500  3.010417  3.010417  159600          0   \n",
              "1980-03-21   0.0  3.020833  2.906250  2.916667  130800          0   \n",
              "\n",
              "            Stock Splits  \n",
              "Date                      \n",
              "1980-03-17           0.0  \n",
              "1980-03-18           0.0  \n",
              "1980-03-19           0.0  \n",
              "1980-03-20           0.0  \n",
              "1980-03-21           0.0  "
            ],
            "text/html": [
              "\n",
              "  <div id=\"df-2c486f41-101e-4339-882b-994fe25894fb\">\n",
              "    <div class=\"colab-df-container\">\n",
              "      <div>\n",
              "<style scoped>\n",
              "    .dataframe tbody tr th:only-of-type {\n",
              "        vertical-align: middle;\n",
              "    }\n",
              "\n",
              "    .dataframe tbody tr th {\n",
              "        vertical-align: top;\n",
              "    }\n",
              "\n",
              "    .dataframe thead th {\n",
              "        text-align: right;\n",
              "    }\n",
              "</style>\n",
              "<table border=\"1\" class=\"dataframe\">\n",
              "  <thead>\n",
              "    <tr style=\"text-align: right;\">\n",
              "      <th></th>\n",
              "      <th>Open</th>\n",
              "      <th>High</th>\n",
              "      <th>Low</th>\n",
              "      <th>Close</th>\n",
              "      <th>Volume</th>\n",
              "      <th>Dividends</th>\n",
              "      <th>Stock Splits</th>\n",
              "    </tr>\n",
              "    <tr>\n",
              "      <th>Date</th>\n",
              "      <th></th>\n",
              "      <th></th>\n",
              "      <th></th>\n",
              "      <th></th>\n",
              "      <th></th>\n",
              "      <th></th>\n",
              "      <th></th>\n",
              "    </tr>\n",
              "  </thead>\n",
              "  <tbody>\n",
              "    <tr>\n",
              "      <th>1980-03-17</th>\n",
              "      <td>0.0</td>\n",
              "      <td>3.302083</td>\n",
              "      <td>3.125000</td>\n",
              "      <td>3.145833</td>\n",
              "      <td>219600</td>\n",
              "      <td>0</td>\n",
              "      <td>0.0</td>\n",
              "    </tr>\n",
              "    <tr>\n",
              "      <th>1980-03-18</th>\n",
              "      <td>0.0</td>\n",
              "      <td>3.125000</td>\n",
              "      <td>2.937500</td>\n",
              "      <td>3.031250</td>\n",
              "      <td>727200</td>\n",
              "      <td>0</td>\n",
              "      <td>0.0</td>\n",
              "    </tr>\n",
              "    <tr>\n",
              "      <th>1980-03-19</th>\n",
              "      <td>0.0</td>\n",
              "      <td>3.083333</td>\n",
              "      <td>3.020833</td>\n",
              "      <td>3.041667</td>\n",
              "      <td>295200</td>\n",
              "      <td>0</td>\n",
              "      <td>0.0</td>\n",
              "    </tr>\n",
              "    <tr>\n",
              "      <th>1980-03-20</th>\n",
              "      <td>0.0</td>\n",
              "      <td>3.062500</td>\n",
              "      <td>3.010417</td>\n",
              "      <td>3.010417</td>\n",
              "      <td>159600</td>\n",
              "      <td>0</td>\n",
              "      <td>0.0</td>\n",
              "    </tr>\n",
              "    <tr>\n",
              "      <th>1980-03-21</th>\n",
              "      <td>0.0</td>\n",
              "      <td>3.020833</td>\n",
              "      <td>2.906250</td>\n",
              "      <td>2.916667</td>\n",
              "      <td>130800</td>\n",
              "      <td>0</td>\n",
              "      <td>0.0</td>\n",
              "    </tr>\n",
              "  </tbody>\n",
              "</table>\n",
              "</div>\n",
              "      <button class=\"colab-df-convert\" onclick=\"convertToInteractive('df-2c486f41-101e-4339-882b-994fe25894fb')\"\n",
              "              title=\"Convert this dataframe to an interactive table.\"\n",
              "              style=\"display:none;\">\n",
              "        \n",
              "  <svg xmlns=\"http://www.w3.org/2000/svg\" height=\"24px\"viewBox=\"0 0 24 24\"\n",
              "       width=\"24px\">\n",
              "    <path d=\"M0 0h24v24H0V0z\" fill=\"none\"/>\n",
              "    <path d=\"M18.56 5.44l.94 2.06.94-2.06 2.06-.94-2.06-.94-.94-2.06-.94 2.06-2.06.94zm-11 1L8.5 8.5l.94-2.06 2.06-.94-2.06-.94L8.5 2.5l-.94 2.06-2.06.94zm10 10l.94 2.06.94-2.06 2.06-.94-2.06-.94-.94-2.06-.94 2.06-2.06.94z\"/><path d=\"M17.41 7.96l-1.37-1.37c-.4-.4-.92-.59-1.43-.59-.52 0-1.04.2-1.43.59L10.3 9.45l-7.72 7.72c-.78.78-.78 2.05 0 2.83L4 21.41c.39.39.9.59 1.41.59.51 0 1.02-.2 1.41-.59l7.78-7.78 2.81-2.81c.8-.78.8-2.07 0-2.86zM5.41 20L4 18.59l7.72-7.72 1.47 1.35L5.41 20z\"/>\n",
              "  </svg>\n",
              "      </button>\n",
              "      \n",
              "  <style>\n",
              "    .colab-df-container {\n",
              "      display:flex;\n",
              "      flex-wrap:wrap;\n",
              "      gap: 12px;\n",
              "    }\n",
              "\n",
              "    .colab-df-convert {\n",
              "      background-color: #E8F0FE;\n",
              "      border: none;\n",
              "      border-radius: 50%;\n",
              "      cursor: pointer;\n",
              "      display: none;\n",
              "      fill: #1967D2;\n",
              "      height: 32px;\n",
              "      padding: 0 0 0 0;\n",
              "      width: 32px;\n",
              "    }\n",
              "\n",
              "    .colab-df-convert:hover {\n",
              "      background-color: #E2EBFA;\n",
              "      box-shadow: 0px 1px 2px rgba(60, 64, 67, 0.3), 0px 1px 3px 1px rgba(60, 64, 67, 0.15);\n",
              "      fill: #174EA6;\n",
              "    }\n",
              "\n",
              "    [theme=dark] .colab-df-convert {\n",
              "      background-color: #3B4455;\n",
              "      fill: #D2E3FC;\n",
              "    }\n",
              "\n",
              "    [theme=dark] .colab-df-convert:hover {\n",
              "      background-color: #434B5C;\n",
              "      box-shadow: 0px 1px 3px 1px rgba(0, 0, 0, 0.15);\n",
              "      filter: drop-shadow(0px 1px 2px rgba(0, 0, 0, 0.3));\n",
              "      fill: #FFFFFF;\n",
              "    }\n",
              "  </style>\n",
              "\n",
              "      <script>\n",
              "        const buttonEl =\n",
              "          document.querySelector('#df-2c486f41-101e-4339-882b-994fe25894fb button.colab-df-convert');\n",
              "        buttonEl.style.display =\n",
              "          google.colab.kernel.accessAllowed ? 'block' : 'none';\n",
              "\n",
              "        async function convertToInteractive(key) {\n",
              "          const element = document.querySelector('#df-2c486f41-101e-4339-882b-994fe25894fb');\n",
              "          const dataTable =\n",
              "            await google.colab.kernel.invokeFunction('convertToInteractive',\n",
              "                                                     [key], {});\n",
              "          if (!dataTable) return;\n",
              "\n",
              "          const docLinkHtml = 'Like what you see? Visit the ' +\n",
              "            '<a target=\"_blank\" href=https://colab.research.google.com/notebooks/data_table.ipynb>data table notebook</a>'\n",
              "            + ' to learn more about interactive tables.';\n",
              "          element.innerHTML = '';\n",
              "          dataTable['output_type'] = 'display_data';\n",
              "          await google.colab.output.renderOutput(dataTable, element);\n",
              "          const docLink = document.createElement('div');\n",
              "          docLink.innerHTML = docLinkHtml;\n",
              "          element.appendChild(docLink);\n",
              "        }\n",
              "      </script>\n",
              "    </div>\n",
              "  </div>\n",
              "  "
            ]
          },
          "metadata": {},
          "execution_count": 23
        }
      ]
    },
    {
      "cell_type": "markdown",
      "metadata": {
        "id": "hAmFAPI0NMB7"
      },
      "source": [
        "<h2>About the Authors:</h2> \n",
        "\n",
        "<a href=\"https://www.linkedin.com/in/joseph-s-50398b136/?utm_medium=Exinfluencer&utm_source=Exinfluencer&utm_content=000026UJ&utm_term=10006555&utm_id=NA-SkillsNetwork-Channel-SkillsNetworkCoursesIBMDeveloperSkillsNetworkPY0220ENSkillsNetwork23455606-2022-01-01\">Joseph Santarcangelo</a> has a PhD in Electrical Engineering, his research focused on using machine learning, signal processing, and computer vision to determine how videos impact human cognition. Joseph has been working for IBM since he completed his PhD.\n",
        "\n",
        "Azim Hirjani\n"
      ]
    },
    {
      "cell_type": "markdown",
      "metadata": {
        "id": "F3T5XCkfNMB7"
      },
      "source": [
        "## Change Log\n",
        "\n",
        "| Date (YYYY-MM-DD) | Version | Changed By    | Change Description        |\n",
        "| ----------------- | ------- | ------------- | ------------------------- |\n",
        "| 2020-11-10        | 1.1     | Malika Singla | Deleted the Optional part |\n",
        "| 2020-08-27        | 1.0     | Malika Singla | Added lab to GitLab       |\n",
        "\n",
        "<hr>\n",
        "\n",
        "## <h3 align=\"center\"> © IBM Corporation 2020. All rights reserved. <h3/>\n",
        "\n",
        "<p>\n"
      ]
    }
  ],
  "metadata": {
    "kernelspec": {
      "display_name": "Python 3",
      "language": "python",
      "name": "python3"
    },
    "language_info": {
      "codemirror_mode": {
        "name": "ipython",
        "version": 3
      },
      "file_extension": ".py",
      "mimetype": "text/x-python",
      "name": "python",
      "nbconvert_exporter": "python",
      "pygments_lexer": "ipython3",
      "version": "3.8.0"
    },
    "colab": {
      "provenance": [],
      "include_colab_link": true
    }
  },
  "nbformat": 4,
  "nbformat_minor": 0
}